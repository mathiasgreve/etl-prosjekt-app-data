{
 "cells": [
  {
   "cell_type": "markdown",
   "metadata": {},
   "source": [
    "Download dataset used in this notebook with cURL:\n",
    "\n",
    "```console\n",
    "#!/bin/bash\n",
    "curl -L -o ~/Downloads/google-play-store-apps.zip\\\n",
    "  https://www.kaggle.com/api/v1/datasets/download/lava18/google-play-store-apps\n",
    "```"
   ]
  },
  {
   "cell_type": "markdown",
   "metadata": {},
   "source": [
    "# Google play store apps analysis\n",
    "Data downloaded from https://www.kaggle.com/datasets/lava18/google-play-store-apps\n",
    "\n",
    "The dataset contains details of the applications on Google Play. There are 10 features that describe the given app:\n",
    "- App\n",
    "- Rating\n",
    "- Category\n",
    "- Reviews\n",
    "- Size\n",
    "- Installs\n",
    "- Type\n",
    "- Price\n",
    "- Content Rating\n",
    "- Genres\n",
    "- Last updated\n",
    "- Current Version\n",
    "- Android Version"
   ]
  },
  {
   "cell_type": "markdown",
   "metadata": {},
   "source": [
    "## Extract"
   ]
  },
  {
   "cell_type": "code",
   "execution_count": 1,
   "metadata": {},
   "outputs": [],
   "source": [
    "# imports\n",
    "import pandas as pd"
   ]
  },
  {
   "cell_type": "code",
   "execution_count": 25,
   "metadata": {},
   "outputs": [
    {
     "data": {
      "text/html": [
       "<div>\n",
       "<style scoped>\n",
       "    .dataframe tbody tr th:only-of-type {\n",
       "        vertical-align: middle;\n",
       "    }\n",
       "\n",
       "    .dataframe tbody tr th {\n",
       "        vertical-align: top;\n",
       "    }\n",
       "\n",
       "    .dataframe thead th {\n",
       "        text-align: right;\n",
       "    }\n",
       "</style>\n",
       "<table border=\"1\" class=\"dataframe\">\n",
       "  <thead>\n",
       "    <tr style=\"text-align: right;\">\n",
       "      <th></th>\n",
       "      <th>App</th>\n",
       "      <th>Category</th>\n",
       "      <th>Rating</th>\n",
       "      <th>Reviews</th>\n",
       "      <th>Size</th>\n",
       "      <th>Installs</th>\n",
       "      <th>Type</th>\n",
       "      <th>Price</th>\n",
       "      <th>Content Rating</th>\n",
       "      <th>Genres</th>\n",
       "      <th>Last Updated</th>\n",
       "      <th>Current Ver</th>\n",
       "      <th>Android Ver</th>\n",
       "    </tr>\n",
       "  </thead>\n",
       "  <tbody>\n",
       "    <tr>\n",
       "      <th>0</th>\n",
       "      <td>Photo Editor &amp; Candy Camera &amp; Grid &amp; ScrapBook</td>\n",
       "      <td>ART_AND_DESIGN</td>\n",
       "      <td>4.1</td>\n",
       "      <td>159</td>\n",
       "      <td>19M</td>\n",
       "      <td>10,000+</td>\n",
       "      <td>Free</td>\n",
       "      <td>0</td>\n",
       "      <td>Everyone</td>\n",
       "      <td>Art &amp; Design</td>\n",
       "      <td>January 7, 2018</td>\n",
       "      <td>1.0.0</td>\n",
       "      <td>4.0.3 and up</td>\n",
       "    </tr>\n",
       "    <tr>\n",
       "      <th>1</th>\n",
       "      <td>Coloring book moana</td>\n",
       "      <td>ART_AND_DESIGN</td>\n",
       "      <td>3.9</td>\n",
       "      <td>967</td>\n",
       "      <td>14M</td>\n",
       "      <td>500,000+</td>\n",
       "      <td>Free</td>\n",
       "      <td>0</td>\n",
       "      <td>Everyone</td>\n",
       "      <td>Art &amp; Design;Pretend Play</td>\n",
       "      <td>January 15, 2018</td>\n",
       "      <td>2.0.0</td>\n",
       "      <td>4.0.3 and up</td>\n",
       "    </tr>\n",
       "    <tr>\n",
       "      <th>2</th>\n",
       "      <td>U Launcher Lite – FREE Live Cool Themes, Hide ...</td>\n",
       "      <td>ART_AND_DESIGN</td>\n",
       "      <td>4.7</td>\n",
       "      <td>87510</td>\n",
       "      <td>8.7M</td>\n",
       "      <td>5,000,000+</td>\n",
       "      <td>Free</td>\n",
       "      <td>0</td>\n",
       "      <td>Everyone</td>\n",
       "      <td>Art &amp; Design</td>\n",
       "      <td>August 1, 2018</td>\n",
       "      <td>1.2.4</td>\n",
       "      <td>4.0.3 and up</td>\n",
       "    </tr>\n",
       "    <tr>\n",
       "      <th>3</th>\n",
       "      <td>Sketch - Draw &amp; Paint</td>\n",
       "      <td>ART_AND_DESIGN</td>\n",
       "      <td>4.5</td>\n",
       "      <td>215644</td>\n",
       "      <td>25M</td>\n",
       "      <td>50,000,000+</td>\n",
       "      <td>Free</td>\n",
       "      <td>0</td>\n",
       "      <td>Teen</td>\n",
       "      <td>Art &amp; Design</td>\n",
       "      <td>June 8, 2018</td>\n",
       "      <td>Varies with device</td>\n",
       "      <td>4.2 and up</td>\n",
       "    </tr>\n",
       "    <tr>\n",
       "      <th>4</th>\n",
       "      <td>Pixel Draw - Number Art Coloring Book</td>\n",
       "      <td>ART_AND_DESIGN</td>\n",
       "      <td>4.3</td>\n",
       "      <td>967</td>\n",
       "      <td>2.8M</td>\n",
       "      <td>100,000+</td>\n",
       "      <td>Free</td>\n",
       "      <td>0</td>\n",
       "      <td>Everyone</td>\n",
       "      <td>Art &amp; Design;Creativity</td>\n",
       "      <td>June 20, 2018</td>\n",
       "      <td>1.1</td>\n",
       "      <td>4.4 and up</td>\n",
       "    </tr>\n",
       "  </tbody>\n",
       "</table>\n",
       "</div>"
      ],
      "text/plain": [
       "                                                 App        Category  Rating  \\\n",
       "0     Photo Editor & Candy Camera & Grid & ScrapBook  ART_AND_DESIGN     4.1   \n",
       "1                                Coloring book moana  ART_AND_DESIGN     3.9   \n",
       "2  U Launcher Lite – FREE Live Cool Themes, Hide ...  ART_AND_DESIGN     4.7   \n",
       "3                              Sketch - Draw & Paint  ART_AND_DESIGN     4.5   \n",
       "4              Pixel Draw - Number Art Coloring Book  ART_AND_DESIGN     4.3   \n",
       "\n",
       "  Reviews  Size     Installs  Type Price Content Rating  \\\n",
       "0     159   19M      10,000+  Free     0       Everyone   \n",
       "1     967   14M     500,000+  Free     0       Everyone   \n",
       "2   87510  8.7M   5,000,000+  Free     0       Everyone   \n",
       "3  215644   25M  50,000,000+  Free     0           Teen   \n",
       "4     967  2.8M     100,000+  Free     0       Everyone   \n",
       "\n",
       "                      Genres      Last Updated         Current Ver  \\\n",
       "0               Art & Design   January 7, 2018               1.0.0   \n",
       "1  Art & Design;Pretend Play  January 15, 2018               2.0.0   \n",
       "2               Art & Design    August 1, 2018               1.2.4   \n",
       "3               Art & Design      June 8, 2018  Varies with device   \n",
       "4    Art & Design;Creativity     June 20, 2018                 1.1   \n",
       "\n",
       "    Android Ver  \n",
       "0  4.0.3 and up  \n",
       "1  4.0.3 and up  \n",
       "2  4.0.3 and up  \n",
       "3    4.2 and up  \n",
       "4    4.4 and up  "
      ]
     },
     "execution_count": 25,
     "metadata": {},
     "output_type": "execute_result"
    }
   ],
   "source": [
    "# read apps data into memory\n",
    "apps = pd.read_csv(\"./google-play-store-apps/googleplaystore.csv\")\n",
    "apps.head()"
   ]
  },
  {
   "cell_type": "code",
   "execution_count": 26,
   "metadata": {},
   "outputs": [
    {
     "data": {
      "text/html": [
       "<div>\n",
       "<style scoped>\n",
       "    .dataframe tbody tr th:only-of-type {\n",
       "        vertical-align: middle;\n",
       "    }\n",
       "\n",
       "    .dataframe tbody tr th {\n",
       "        vertical-align: top;\n",
       "    }\n",
       "\n",
       "    .dataframe thead th {\n",
       "        text-align: right;\n",
       "    }\n",
       "</style>\n",
       "<table border=\"1\" class=\"dataframe\">\n",
       "  <thead>\n",
       "    <tr style=\"text-align: right;\">\n",
       "      <th></th>\n",
       "      <th>App</th>\n",
       "      <th>Translated_Review</th>\n",
       "      <th>Sentiment</th>\n",
       "      <th>Sentiment_Polarity</th>\n",
       "      <th>Sentiment_Subjectivity</th>\n",
       "    </tr>\n",
       "  </thead>\n",
       "  <tbody>\n",
       "    <tr>\n",
       "      <th>0</th>\n",
       "      <td>10 Best Foods for You</td>\n",
       "      <td>I like eat delicious food. That's I'm cooking ...</td>\n",
       "      <td>Positive</td>\n",
       "      <td>1.00</td>\n",
       "      <td>0.533333</td>\n",
       "    </tr>\n",
       "    <tr>\n",
       "      <th>1</th>\n",
       "      <td>10 Best Foods for You</td>\n",
       "      <td>This help eating healthy exercise regular basis</td>\n",
       "      <td>Positive</td>\n",
       "      <td>0.25</td>\n",
       "      <td>0.288462</td>\n",
       "    </tr>\n",
       "    <tr>\n",
       "      <th>2</th>\n",
       "      <td>10 Best Foods for You</td>\n",
       "      <td>NaN</td>\n",
       "      <td>NaN</td>\n",
       "      <td>NaN</td>\n",
       "      <td>NaN</td>\n",
       "    </tr>\n",
       "    <tr>\n",
       "      <th>3</th>\n",
       "      <td>10 Best Foods for You</td>\n",
       "      <td>Works great especially going grocery store</td>\n",
       "      <td>Positive</td>\n",
       "      <td>0.40</td>\n",
       "      <td>0.875000</td>\n",
       "    </tr>\n",
       "    <tr>\n",
       "      <th>4</th>\n",
       "      <td>10 Best Foods for You</td>\n",
       "      <td>Best idea us</td>\n",
       "      <td>Positive</td>\n",
       "      <td>1.00</td>\n",
       "      <td>0.300000</td>\n",
       "    </tr>\n",
       "  </tbody>\n",
       "</table>\n",
       "</div>"
      ],
      "text/plain": [
       "                     App                                  Translated_Review  \\\n",
       "0  10 Best Foods for You  I like eat delicious food. That's I'm cooking ...   \n",
       "1  10 Best Foods for You    This help eating healthy exercise regular basis   \n",
       "2  10 Best Foods for You                                                NaN   \n",
       "3  10 Best Foods for You         Works great especially going grocery store   \n",
       "4  10 Best Foods for You                                       Best idea us   \n",
       "\n",
       "  Sentiment  Sentiment_Polarity  Sentiment_Subjectivity  \n",
       "0  Positive                1.00                0.533333  \n",
       "1  Positive                0.25                0.288462  \n",
       "2       NaN                 NaN                     NaN  \n",
       "3  Positive                0.40                0.875000  \n",
       "4  Positive                1.00                0.300000  "
      ]
     },
     "execution_count": 26,
     "metadata": {},
     "output_type": "execute_result"
    }
   ],
   "source": [
    "# read reviews data into memory\n",
    "reviews = pd.read_csv(\"./google-play-store-apps/googleplaystore_user_reviews.csv\")\n",
    "reviews.head()"
   ]
  },
  {
   "cell_type": "code",
   "execution_count": 27,
   "metadata": {},
   "outputs": [],
   "source": [
    "# function for basic info\n",
    "def show_info(df: pd.DataFrame, varName: str | None=None ) -> None:\n",
    "    \"\"\"\n",
    "    Shows basic information of the pd.DataFrame\n",
    "\n",
    "    Input:\n",
    "        df - pandas.DataFrame\n",
    "\n",
    "    Output:\n",
    "        printed statements on:\n",
    "        - shape\n",
    "        - columns names\n",
    "    \"\"\"\n",
    "\n",
    "    # some basic info on the datasets\n",
    "    if(varName): print(f\"\\nInfo about {varName}:\")\n",
    "    print(f\"Number of rows and cols:{df.shape}\")\n",
    "    print(f\"Column names: {list(df.columns)}\")\n",
    "    print(f\"The columns in the dataframe has the following types:\")\n",
    "    print(df.dtypes)    \n"
   ]
  },
  {
   "cell_type": "code",
   "execution_count": 28,
   "metadata": {},
   "outputs": [
    {
     "name": "stdout",
     "output_type": "stream",
     "text": [
      "\n",
      "Info about apps:\n",
      "Number of rows and cols:(10841, 13)\n",
      "Column names: ['App', 'Category', 'Rating', 'Reviews', 'Size', 'Installs', 'Type', 'Price', 'Content Rating', 'Genres', 'Last Updated', 'Current Ver', 'Android Ver']\n",
      "The columns in the dataframe has the following types:\n",
      "App                object\n",
      "Category           object\n",
      "Rating            float64\n",
      "Reviews            object\n",
      "Size               object\n",
      "Installs           object\n",
      "Type               object\n",
      "Price              object\n",
      "Content Rating     object\n",
      "Genres             object\n",
      "Last Updated       object\n",
      "Current Ver        object\n",
      "Android Ver        object\n",
      "dtype: object\n"
     ]
    }
   ],
   "source": [
    "# show info\n",
    "show_info(apps, \"apps\")"
   ]
  },
  {
   "cell_type": "code",
   "execution_count": 29,
   "metadata": {},
   "outputs": [
    {
     "name": "stdout",
     "output_type": "stream",
     "text": [
      "\n",
      "Info about reviews:\n",
      "Number of rows and cols:(64295, 5)\n",
      "Column names: ['App', 'Translated_Review', 'Sentiment', 'Sentiment_Polarity', 'Sentiment_Subjectivity']\n",
      "The columns in the dataframe has the following types:\n",
      "App                        object\n",
      "Translated_Review          object\n",
      "Sentiment                  object\n",
      "Sentiment_Polarity        float64\n",
      "Sentiment_Subjectivity    float64\n",
      "dtype: object\n"
     ]
    }
   ],
   "source": [
    "# show info for reviews\n",
    "show_info(reviews, \"reviews\")"
   ]
  },
  {
   "cell_type": "code",
   "execution_count": 30,
   "metadata": {},
   "outputs": [],
   "source": [
    "# function for extraction\n",
    "def extract(file_path: str) -> pd.DataFrame:\n",
    "\n",
    "    \"\"\" \n",
    "    Extracting data from csv and read into a pandas.DataFrame\n",
    "\n",
    "    Input:\n",
    "        file_path: str - path to csv that is to be read into memory\n",
    "\n",
    "    Output:\n",
    "        data: pandas.DataFrame - dataframe containing the data\n",
    "    \"\"\"\n",
    "\n",
    "    #read csv\n",
    "    data=pd.read_csv(file_path)\n",
    "    print(\"data read from csv DONE\")\n",
    "\n",
    "    #print info\n",
    "    show_info(data)\n",
    "\n",
    "    return data"
   ]
  },
  {
   "cell_type": "code",
   "execution_count": null,
   "metadata": {},
   "outputs": [],
   "source": []
  },
  {
   "cell_type": "markdown",
   "metadata": {},
   "source": [
    "### EDA\n"
   ]
  },
  {
   "cell_type": "code",
   "execution_count": 31,
   "metadata": {},
   "outputs": [
    {
     "data": {
      "text/plain": [
       "App                  0\n",
       "Category             0\n",
       "Rating            1474\n",
       "Reviews              0\n",
       "Size                 0\n",
       "Installs             0\n",
       "Type                 1\n",
       "Price                0\n",
       "Content Rating       1\n",
       "Genres               0\n",
       "Last Updated         0\n",
       "Current Ver          8\n",
       "Android Ver          3\n",
       "dtype: int64"
      ]
     },
     "execution_count": 31,
     "metadata": {},
     "output_type": "execute_result"
    }
   ],
   "source": [
    "# count nans\n",
    "apps.isna().sum()"
   ]
  },
  {
   "cell_type": "code",
   "execution_count": 32,
   "metadata": {},
   "outputs": [
    {
     "data": {
      "text/plain": [
       "App                           0\n",
       "Translated_Review         26868\n",
       "Sentiment                 26863\n",
       "Sentiment_Polarity        26863\n",
       "Sentiment_Subjectivity    26863\n",
       "dtype: int64"
      ]
     },
     "execution_count": 32,
     "metadata": {},
     "output_type": "execute_result"
    }
   ],
   "source": [
    "reviews.isna().sum()"
   ]
  },
  {
   "cell_type": "markdown",
   "metadata": {},
   "source": [
    "## Transform\n"
   ]
  },
  {
   "cell_type": "markdown",
   "metadata": {},
   "source": [
    "I am going to further study apps and reviews in the category: \"FOOD_AND_DRINK\".\n",
    "\n"
   ]
  },
  {
   "cell_type": "code",
   "execution_count": 33,
   "metadata": {},
   "outputs": [
    {
     "data": {
      "text/html": [
       "<div>\n",
       "<style scoped>\n",
       "    .dataframe tbody tr th:only-of-type {\n",
       "        vertical-align: middle;\n",
       "    }\n",
       "\n",
       "    .dataframe tbody tr th {\n",
       "        vertical-align: top;\n",
       "    }\n",
       "\n",
       "    .dataframe thead th {\n",
       "        text-align: right;\n",
       "    }\n",
       "</style>\n",
       "<table border=\"1\" class=\"dataframe\">\n",
       "  <thead>\n",
       "    <tr style=\"text-align: right;\">\n",
       "      <th></th>\n",
       "      <th>App</th>\n",
       "      <th>Category</th>\n",
       "      <th>Rating</th>\n",
       "      <th>Reviews</th>\n",
       "      <th>Size</th>\n",
       "      <th>Installs</th>\n",
       "      <th>Type</th>\n",
       "      <th>Price</th>\n",
       "      <th>Content Rating</th>\n",
       "      <th>Genres</th>\n",
       "      <th>Last Updated</th>\n",
       "      <th>Current Ver</th>\n",
       "      <th>Android Ver</th>\n",
       "    </tr>\n",
       "  </thead>\n",
       "  <tbody>\n",
       "    <tr>\n",
       "      <th>1176</th>\n",
       "      <td>McDonald's</td>\n",
       "      <td>FOOD_AND_DRINK</td>\n",
       "      <td>3.6</td>\n",
       "      <td>145323</td>\n",
       "      <td>42M</td>\n",
       "      <td>10,000,000+</td>\n",
       "      <td>Free</td>\n",
       "      <td>0</td>\n",
       "      <td>Everyone</td>\n",
       "      <td>Food &amp; Drink</td>\n",
       "      <td>July 31, 2018</td>\n",
       "      <td>5.15.0</td>\n",
       "      <td>4.4 and up</td>\n",
       "    </tr>\n",
       "    <tr>\n",
       "      <th>1177</th>\n",
       "      <td>Easy and Fast Recipes</td>\n",
       "      <td>FOOD_AND_DRINK</td>\n",
       "      <td>NaN</td>\n",
       "      <td>95</td>\n",
       "      <td>12M</td>\n",
       "      <td>50,000+</td>\n",
       "      <td>Free</td>\n",
       "      <td>0</td>\n",
       "      <td>Everyone</td>\n",
       "      <td>Food &amp; Drink</td>\n",
       "      <td>January 6, 2018</td>\n",
       "      <td>3.0.1</td>\n",
       "      <td>2.3 and up</td>\n",
       "    </tr>\n",
       "  </tbody>\n",
       "</table>\n",
       "</div>"
      ],
      "text/plain": [
       "                        App        Category  Rating Reviews Size     Installs  \\\n",
       "1176             McDonald's  FOOD_AND_DRINK     3.6  145323  42M  10,000,000+   \n",
       "1177  Easy and Fast Recipes  FOOD_AND_DRINK     NaN      95  12M      50,000+   \n",
       "\n",
       "      Type Price Content Rating        Genres     Last Updated Current Ver  \\\n",
       "1176  Free     0       Everyone  Food & Drink    July 31, 2018      5.15.0   \n",
       "1177  Free     0       Everyone  Food & Drink  January 6, 2018       3.0.1   \n",
       "\n",
       "     Android Ver  \n",
       "1176  4.4 and up  \n",
       "1177  2.3 and up  "
      ]
     },
     "execution_count": 33,
     "metadata": {},
     "output_type": "execute_result"
    }
   ],
   "source": [
    "# new dataframe with apps of \"FOOD_AND_DRINK\" category\n",
    "apps_food = apps[apps.Category == \"FOOD_AND_DRINK\"]\n",
    "apps_food.head(2)"
   ]
  },
  {
   "cell_type": "code",
   "execution_count": 34,
   "metadata": {},
   "outputs": [
    {
     "data": {
      "text/plain": [
       "(127, 13)"
      ]
     },
     "execution_count": 34,
     "metadata": {},
     "output_type": "execute_result"
    }
   ],
   "source": [
    "apps_food.shape"
   ]
  },
  {
   "cell_type": "code",
   "execution_count": 35,
   "metadata": {},
   "outputs": [
    {
     "data": {
      "text/plain": [
       "App                0\n",
       "Category           0\n",
       "Rating            18\n",
       "Reviews            0\n",
       "Size               0\n",
       "Installs           0\n",
       "Type               0\n",
       "Price              0\n",
       "Content Rating     0\n",
       "Genres             0\n",
       "Last Updated       0\n",
       "Current Ver        0\n",
       "Android Ver        0\n",
       "dtype: int64"
      ]
     },
     "execution_count": 35,
     "metadata": {},
     "output_type": "execute_result"
    }
   ],
   "source": [
    "apps_food.isna().sum()"
   ]
  },
  {
   "cell_type": "code",
   "execution_count": 43,
   "metadata": {},
   "outputs": [
    {
     "name": "stdout",
     "output_type": "stream",
     "text": [
      "Transforming data to curate a dataset with all FOOD_AND_DRINK apps and their corresponding reviews with a rating of at least 4.0 and 1000 reviews \n",
      "\n",
      "The transformed dataframe, which includes 57 rows and 5 columns has been persisted, and will be returned\n"
     ]
    },
    {
     "name": "stderr",
     "output_type": "stream",
     "text": [
      "/var/folders/4d/x1s6d4b54_585bp8jb_sh1yh0000gn/T/ipykernel_36098/1253274092.py:38: SettingWithCopyWarning: \n",
      "A value is trying to be set on a copy of a slice from a DataFrame\n",
      "\n",
      "See the caveats in the documentation: https://pandas.pydata.org/pandas-docs/stable/user_guide/indexing.html#returning-a-view-versus-a-copy\n",
      "  top_apps.sort_values(by=[\"Rating\", \"Reviews\"], ascending=False, inplace=True)\n"
     ]
    },
    {
     "data": {
      "text/html": [
       "<div>\n",
       "<style scoped>\n",
       "    .dataframe tbody tr th:only-of-type {\n",
       "        vertical-align: middle;\n",
       "    }\n",
       "\n",
       "    .dataframe tbody tr th {\n",
       "        vertical-align: top;\n",
       "    }\n",
       "\n",
       "    .dataframe thead th {\n",
       "        text-align: right;\n",
       "    }\n",
       "</style>\n",
       "<table border=\"1\" class=\"dataframe\">\n",
       "  <thead>\n",
       "    <tr style=\"text-align: right;\">\n",
       "      <th></th>\n",
       "      <th>App</th>\n",
       "      <th>Rating</th>\n",
       "      <th>Reviews</th>\n",
       "      <th>Installs</th>\n",
       "      <th>Sentiment_Polarity</th>\n",
       "    </tr>\n",
       "  </thead>\n",
       "  <tbody>\n",
       "    <tr>\n",
       "      <th>0</th>\n",
       "      <td>SarashpazPapion (Cooking with Chef Bowls)</td>\n",
       "      <td>4.8</td>\n",
       "      <td>1250</td>\n",
       "      <td>50,000+</td>\n",
       "      <td>NaN</td>\n",
       "    </tr>\n",
       "    <tr>\n",
       "      <th>1</th>\n",
       "      <td>Domino's Pizza USA</td>\n",
       "      <td>4.7</td>\n",
       "      <td>1032935</td>\n",
       "      <td>10,000,000+</td>\n",
       "      <td>0.226971</td>\n",
       "    </tr>\n",
       "    <tr>\n",
       "      <th>2</th>\n",
       "      <td>Tastely</td>\n",
       "      <td>4.7</td>\n",
       "      <td>611136</td>\n",
       "      <td>10,000,000+</td>\n",
       "      <td>NaN</td>\n",
       "    </tr>\n",
       "    <tr>\n",
       "      <th>3</th>\n",
       "      <td>Delicious Recipes</td>\n",
       "      <td>4.7</td>\n",
       "      <td>129737</td>\n",
       "      <td>1,000,000+</td>\n",
       "      <td>NaN</td>\n",
       "    </tr>\n",
       "    <tr>\n",
       "      <th>4</th>\n",
       "      <td>BeyondMenu Food Delivery</td>\n",
       "      <td>4.7</td>\n",
       "      <td>51517</td>\n",
       "      <td>1,000,000+</td>\n",
       "      <td>0.408743</td>\n",
       "    </tr>\n",
       "  </tbody>\n",
       "</table>\n",
       "</div>"
      ],
      "text/plain": [
       "                                         App  Rating  Reviews     Installs  \\\n",
       "0  SarashpazPapion (Cooking with Chef Bowls)     4.8     1250      50,000+   \n",
       "1                         Domino's Pizza USA     4.7  1032935  10,000,000+   \n",
       "2                                    Tastely     4.7   611136  10,000,000+   \n",
       "3                          Delicious Recipes     4.7   129737   1,000,000+   \n",
       "4                   BeyondMenu Food Delivery     4.7    51517   1,000,000+   \n",
       "\n",
       "   Sentiment_Polarity  \n",
       "0                 NaN  \n",
       "1            0.226971  \n",
       "2                 NaN  \n",
       "3                 NaN  \n",
       "4            0.408743  "
      ]
     },
     "execution_count": 43,
     "metadata": {},
     "output_type": "execute_result"
    }
   ],
   "source": [
    "# define a tranform function\n",
    "def transform(app, review, category, min_rating, min_reviews):\n",
    "    \"\"\"\n",
    "    Transforms the two dataframes by joining the two and selecting the relevant columns\n",
    "\n",
    "    Input:\n",
    "\n",
    "    Output:\n",
    "    \"\"\"\n",
    "\n",
    "    #print statements for observability\n",
    "    print(f\"Transforming data to curate a dataset with all {category} apps and their \"\n",
    "          f\"corresponding reviews with a rating of at least {min_rating} and \"\n",
    "          f\"{min_reviews} reviews \\n\")\n",
    "    \n",
    "    #drop duplicates\n",
    "    review = review.drop_duplicates()\n",
    "    app = app.drop_duplicates(subset=[\"App\"])\n",
    "\n",
    "    #filter dataframes to include only the category given as input\n",
    "    subset_apps= app.loc[app.Category==category, :]\n",
    "    subset_reviews = review.loc[review.App.isin(subset_apps.App), [\"App\", \"Sentiment_Polarity\"] ]\n",
    "\n",
    "    # aggerate the mean sentiment polarity\n",
    "    aggregated_reviews = subset_reviews.groupby(by=\"App\").mean()\n",
    "\n",
    "    #join it back to subset_reviews df\n",
    "    joined_apps_reviews = subset_apps.join(aggregated_reviews, on=\"App\", how=\"left\")\n",
    "\n",
    "    #Keep only needed columns\n",
    "    filtered_apps_reviews = joined_apps_reviews.loc[:, [\"App\", \"Rating\", \"Reviews\", \"Installs\", \"Sentiment_Polarity\"]]\n",
    "\n",
    "    #convert reviews, keep only values with an avg rating of >= min_rating stars and >= min_reviews reviews\n",
    "    filtered_apps_reviews = filtered_apps_reviews.astype({\"Reviews\": \"int32\"})\n",
    "    top_apps = filtered_apps_reviews.loc[(filtered_apps_reviews.Rating >= min_rating) & (filtered_apps_reviews.Reviews > min_reviews), :]\n",
    "\n",
    "    # sorting top apps, replace nans with 0, reset index (drop,inplace)\n",
    "    top_apps.sort_values(by=[\"Rating\", \"Reviews\"], ascending=False, inplace=True)\n",
    "    top_apps.reset_index(drop=True, inplace=True)\n",
    "\n",
    "    # persistt this df as top_apps.csv file\n",
    "    top_apps.to_csv(\"top_apps.csv\")\n",
    "\n",
    "    print(f\"The transformed dataframe, which includes {top_apps.shape[0]} rows \"\n",
    "          f\"and {top_apps.shape[1]} columns has been persisted, and will be returned\")\n",
    "    \n",
    "    return top_apps\n",
    "\n",
    "top_apps_data = transform(apps, reviews, \"FOOD_AND_DRINK\", 4.0, 1000)\n",
    "top_apps_data.head()"
   ]
  },
  {
   "cell_type": "code",
   "execution_count": null,
   "metadata": {},
   "outputs": [],
   "source": []
  },
  {
   "cell_type": "markdown",
   "metadata": {},
   "source": [
    "## Loading Data\n",
    "Loading the transformed data int o a SQL database with pandas and sqlite3"
   ]
  },
  {
   "cell_type": "code",
   "execution_count": 42,
   "metadata": {},
   "outputs": [],
   "source": [
    "import sqlite3"
   ]
  },
  {
   "cell_type": "code",
   "execution_count": 45,
   "metadata": {},
   "outputs": [
    {
     "name": "stdout",
     "output_type": "stream",
     "text": [
      "Original df has been loaded to sqlite\n",
      "the loaded df had been read from sqlite for validation\n",
      "Succes! The data in the top_apps table have successfullt been loaded and validated\n"
     ]
    }
   ],
   "source": [
    "def load(dataframe, database_name, table_name):\n",
    "\n",
    "    #create connection object\n",
    "    con = sqlite3.connect(database_name)\n",
    "\n",
    "    # write the data to the spesifiec table\n",
    "    dataframe.to_sql(name=table_name, con=con, if_exists=\"replace\", index=False)\n",
    "    print(\"Original df has been loaded to sqlite\")\n",
    "\n",
    "    # read the data, and return the result\n",
    "    loaded_df = pd.read_sql(sql=f\"SELECT * FROM {table_name}\", con=con)\n",
    "    print(\"the loaded df had been read from sqlite for validation\")\n",
    "\n",
    "    try:\n",
    "        assert dataframe.shape == loaded_df.shape\n",
    "        print(f\"Succes! The data in the {table_name} table have successfullt been loaded and validated\")\n",
    "    except AssertionError:\n",
    "        print(\"Dataframe shape is not consistent before and after loadning. Take a close look!\")\n",
    "\n",
    "load(top_apps_data,\"market_research\",\"top_apps\")"
   ]
  },
  {
   "cell_type": "code",
   "execution_count": null,
   "metadata": {},
   "outputs": [],
   "source": []
  },
  {
   "cell_type": "markdown",
   "metadata": {},
   "source": [
    "# Running the pipeline\n",
    "Running the pipeline end-to-end\n"
   ]
  },
  {
   "cell_type": "code",
   "execution_count": 46,
   "metadata": {},
   "outputs": [],
   "source": [
    "# imports\n",
    "import pandas as pd\n",
    "import sqlite3"
   ]
  },
  {
   "cell_type": "code",
   "execution_count": 47,
   "metadata": {},
   "outputs": [
    {
     "name": "stdout",
     "output_type": "stream",
     "text": [
      "data read from csv DONE\n",
      "Number of rows and cols:(10841, 13)\n",
      "Column names: ['App', 'Category', 'Rating', 'Reviews', 'Size', 'Installs', 'Type', 'Price', 'Content Rating', 'Genres', 'Last Updated', 'Current Ver', 'Android Ver']\n",
      "The columns in the dataframe has the following types:\n",
      "App                object\n",
      "Category           object\n",
      "Rating            float64\n",
      "Reviews            object\n",
      "Size               object\n",
      "Installs           object\n",
      "Type               object\n",
      "Price              object\n",
      "Content Rating     object\n",
      "Genres             object\n",
      "Last Updated       object\n",
      "Current Ver        object\n",
      "Android Ver        object\n",
      "dtype: object\n",
      "data read from csv DONE\n",
      "Number of rows and cols:(64295, 5)\n",
      "Column names: ['App', 'Translated_Review', 'Sentiment', 'Sentiment_Polarity', 'Sentiment_Subjectivity']\n",
      "The columns in the dataframe has the following types:\n",
      "App                        object\n",
      "Translated_Review          object\n",
      "Sentiment                  object\n",
      "Sentiment_Polarity        float64\n",
      "Sentiment_Subjectivity    float64\n",
      "dtype: object\n"
     ]
    }
   ],
   "source": [
    "#extract data\n",
    "final_apps_data = extract(\"./google-play-store-apps/googleplaystore.csv\")\n",
    "final_reviews_data = extract(\"./google-play-store-apps/googleplaystore_user_reviews.csv\")"
   ]
  },
  {
   "cell_type": "code",
   "execution_count": 49,
   "metadata": {},
   "outputs": [
    {
     "name": "stdout",
     "output_type": "stream",
     "text": [
      "Transforming data to curate a dataset with all FOOD_AND_DRINK apps and their corresponding reviews with a rating of at least 4.0 and 1000 reviews \n",
      "\n",
      "The transformed dataframe, which includes 57 rows and 5 columns has been persisted, and will be returned\n"
     ]
    },
    {
     "name": "stderr",
     "output_type": "stream",
     "text": [
      "/var/folders/4d/x1s6d4b54_585bp8jb_sh1yh0000gn/T/ipykernel_36098/1253274092.py:38: SettingWithCopyWarning: \n",
      "A value is trying to be set on a copy of a slice from a DataFrame\n",
      "\n",
      "See the caveats in the documentation: https://pandas.pydata.org/pandas-docs/stable/user_guide/indexing.html#returning-a-view-versus-a-copy\n",
      "  top_apps.sort_values(by=[\"Rating\", \"Reviews\"], ascending=False, inplace=True)\n"
     ]
    }
   ],
   "source": [
    "# transform data\n",
    "top_apps_data = transform(final_apps_data, final_reviews_data, \"FOOD_AND_DRINK\", 4.0, 1000)"
   ]
  },
  {
   "cell_type": "code",
   "execution_count": 50,
   "metadata": {},
   "outputs": [
    {
     "name": "stdout",
     "output_type": "stream",
     "text": [
      "Original df has been loaded to sqlite\n",
      "the loaded df had been read from sqlite for validation\n",
      "Succes! The data in the top_apps table have successfullt been loaded and validated\n"
     ]
    }
   ],
   "source": [
    "load(top_apps_data,\"market_research\",\"top_apps\")"
   ]
  },
  {
   "cell_type": "code",
   "execution_count": null,
   "metadata": {},
   "outputs": [],
   "source": []
  }
 ],
 "metadata": {
  "kernelspec": {
   "display_name": "etl-pipeline-tutorial-2xWGnI_v",
   "language": "python",
   "name": "python3"
  },
  "language_info": {
   "codemirror_mode": {
    "name": "ipython",
    "version": 3
   },
   "file_extension": ".py",
   "mimetype": "text/x-python",
   "name": "python",
   "nbconvert_exporter": "python",
   "pygments_lexer": "ipython3",
   "version": "3.13.1"
  }
 },
 "nbformat": 4,
 "nbformat_minor": 2
}
